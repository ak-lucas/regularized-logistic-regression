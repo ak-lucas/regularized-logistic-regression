{
 "cells": [
  {
   "cell_type": "markdown",
   "metadata": {},
   "source": [
    "# Regressão Logística com Descida de Gradiente Regularizada\n",
    "\n",
    "Este notebook foi criado para facilitar a realização dos experimentos do trabalho. Caso funcione bem, podemos adotar esta ferramenta também em trabalhos futuros.\n",
    "\n",
    "**Conteúdo do notebook: **\n",
    "\n",
    "- classe com a implementação da regressão logística com descida de gradiente regularizada;\n",
    "- main com exemplo de utilização da classe;\n",
    "- código para gerar os resultados e realizar os experimentos;\n",
    "- avaliação dos resultados;\n",
    "\n",
    "**Requisitos para executar este notebook: **\n",
    "- ter os arquivos do repositório deste notebook na mesma pasta;\n",
    "- ter numpy instalado (recomendável instalar toda pilha scipy);\n",
    "- ter sklearn instalado caso queira comparar os resultados;"
   ]
  },
  {
   "cell_type": "markdown",
   "metadata": {},
   "source": [
    "**Classe da regressão logística com descida de gradiente regularizada:**\n",
    "\n",
    "A classe está implementada no arquivo regressao_logistica_regularizado.py que deve ser mantido no mesmo diretório deste notebook."
   ]
  },
  {
   "cell_type": "markdown",
   "metadata": {},
   "source": [
    "**exemplo de uso**\n",
    "\n",
    "Neste exemplo é utilizada uma versão modificada do dataset iris do repositório UCI. Neste dataset uma classe foi excluída para que o dataset fosse transformado para ser utlizado em um problema de classificação binária."
   ]
  },
  {
   "cell_type": "code",
   "execution_count": 1,
   "metadata": {},
   "outputs": [
    {
     "name": "stdout",
     "output_type": "stream",
     "text": [
      "train accuracy: 100.0%\n",
      "test accuracy: 100.0%\n",
      "final loss: 0.173080957755\n"
     ]
    }
   ],
   "source": [
    "from regressao_logistica_regularizado import RegularizedLogisticRegression\n",
    "import csv\n",
    "import numpy as np\n",
    "from sklearn.metrics import accuracy_score\n",
    "import time\n",
    "\n",
    "#PREPARAÇÃO DO DATASET\n",
    "X = []\n",
    "Y = []\n",
    "with open('iris_mod.csv', 'r') as f:\n",
    "    reader = csv.reader(f)\n",
    "    for r in reader:\n",
    "        x = r[:-1]\n",
    "        X.append([float(a) for a in x])\n",
    "        Y.append(int(r[-1]))\n",
    "\n",
    "X = np.array(X)\n",
    "Y = np.array(Y)\n",
    "\n",
    "indices = np.arange(X.shape[0])\n",
    "\n",
    "np.random.shuffle(indices)\n",
    "\n",
    "X = X[indices]\n",
    "Y = Y[indices]\n",
    "\n",
    "TRAIN_SIZE = int(.8 * X.shape[0])\n",
    "\n",
    "X_train = X[:TRAIN_SIZE]\n",
    "Y_train = Y[:TRAIN_SIZE]\n",
    "\n",
    "X_test = X[TRAIN_SIZE:]\n",
    "Y_test = Y[TRAIN_SIZE:]\n",
    "\n",
    "#REGRESSÃO LOGÍSTICA\n",
    "LR = RegularizedLogisticRegression()\n",
    "\n",
    "epochs = 30\n",
    "\n",
    "LR.fit(X_train,Y_train, epochs=epochs, learning_rate=0.08, Lambda=0.1, print_results=False)\n",
    "print(\"train accuracy: \" + str(LR.accuracy_score(X_train,Y_train)*100.0) + \"%\")\n",
    "\n",
    "Y_predict = LR.predict(X_test)\n",
    "\n",
    "print('test accuracy: ' + str(LR.accuracy_score(X_test,Y_test)*100.0) + \"%\")\n",
    "#print accuracy_score(Y_test,Y_predict)\t#sklearn accuracy\n",
    "\n",
    "print('final loss: ' + str(LR.loss[-1]))\n"
   ]
  },
  {
   "cell_type": "markdown",
   "metadata": {},
   "source": [
    "**Classe para plotar gráficos**\n",
    "\n",
    "Abaixo está definida a classe utilizada para plotar gŕaficos.\n",
    "\n",
    "Parâmetros do método plot_curve:\n",
    "- X -> lista com os pontos do eixo x\n",
    "- Y -> lista com os pontos do eixo y"
   ]
  },
  {
   "cell_type": "code",
   "execution_count": 2,
   "metadata": {
    "collapsed": true
   },
   "outputs": [],
   "source": [
    "import matplotlib.pyplot as plt\n",
    "\n",
    "class Plot:\n",
    "    def __init__(self):\n",
    "        pass\n",
    "    \n",
    "    def plot_curve(self, X, Y, xlabel='', ylabel='', color='blue', linewidth=2, title='', grid=False):\n",
    "        plt.plot(X, Y, color=color, linewidth=linewidth)\n",
    "        plt.xlabel(xlabel)\n",
    "        plt.ylabel(ylabel)\n",
    "        plt.title(title)\n",
    "        plt.grid(grid)\n",
    "\n",
    "        plt.show()"
   ]
  },
  {
   "cell_type": "markdown",
   "metadata": {},
   "source": [
    "**exemplo de execução: Loss x Iteração**\n",
    "\n",
    "Abaixo está o código para plotar o gráfico da função de custo ao longo de cada iteração."
   ]
  },
  {
   "cell_type": "code",
   "execution_count": 3,
   "metadata": {},
   "outputs": [
    {
     "data": {
      "image/png": "[encoded data removed]",
      "text/plain": [
       "<matplotlib.figure.Figure at 0x7f08677a0e10>"
      ]
     },
     "metadata": {},
     "output_type": "display_data"
    }
   ],
   "source": [
    "axis_x = range(epochs+1)\n",
    "\n",
    "axis_y = LR.loss\n",
    "\n",
    "plot = Plot()\n",
    "plot.plot_curve(axis_x, axis_y, xlabel='iteracao', ylabel='loss', title='Regressao Logistica', grid=True)"
   ]
  },
  {
   "cell_type": "code",
   "execution_count": null,
   "metadata": {
    "collapsed": true
   },
   "outputs": [],
   "source": []
  }
 ],
 "metadata": {
  "kernelspec": {
   "display_name": "Python 2",
   "language": "python",
   "name": "python2"
  },
  "language_info": {
   "codemirror_mode": {
    "name": "ipython",
    "version": 2
   },
   "file_extension": ".py",
   "mimetype": "text/x-python",
   "name": "python",
   "nbconvert_exporter": "python",
   "pygments_lexer": "ipython2",
   "version": "2.7.12"
  }
 },
 "nbformat": 4,
 "nbformat_minor": 2
}
